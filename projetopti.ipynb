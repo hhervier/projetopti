{
 "cells": [
  {
   "cell_type": "markdown",
   "metadata": {},
   "source": [
    "Partie 2: Etude et résolution numérique\n",
    "\n",
    "Etude du problème:\n",
    "\n",
    "On a : $coût(t0,tf)=\\int_0^T p(t)P_{fournie}(t,t0,tf)dt$\n",
    "\n",
    "avec T la durée d'étude sur le rechargement\n",
    "Cette fonction est continue sur$[0;T]^2\\cap (t0<=tf)$\n",
    "Donc d'après le théorème de Weierstrass, min coût(t0,tf) existe.\n",
    "Ce minimum n'est clairement pas unique. Imaginons que le client veut faire rechrager sa voiture pendant les heures creuses, si la recharge n'est pas trop importante, on peut choisir l'heure pendant laquelle faire la recharge et le prix sera inchangé.\n",
    "\n"
   ]
  },
  {
   "cell_type": "markdown",
   "metadata": {},
   "source": [
    "Pour mon algorithme, j'ai choisi de faire deux fonctions. Une première qui choisit les temps de début et de fin de rechargement les plus adaptés. La seconde calcule alors le coût de la recharge."
   ]
  },
  {
   "cell_type": "code",
   "execution_count": 1,
   "metadata": {},
   "outputs": [],
   "source": [
    "def choixtemps(t0,tf,pmax,SOCi,SOCf,T,Qmax):\n",
    "    t1=0\n",
    "    t2=0\n",
    "    if tf<=T/2:\n",
    "        t1=t0\n",
    "        t2=tf\n",
    "    else:\n",
    "        t1=T/2\n",
    "        t2=tf\n",
    "    if (SOCf-SOCi)*Qmax/(t2-t1)>pmax:\n",
    "        t1=t2-(SOCf-SOCi)*Qmax/pmax\n",
    "    return(t1,t2)\n",
    "    \n",
    "def cout(t0,tf,SOCi,SOCf,Qmax,c1,c2,T,pmax):\n",
    "    t1,t2=choixtemps(t0,tf,pmax,SOCi,SOCf,T,Qmax)\n",
    "    if t2<=T/2:\n",
    "        return c1*Qmax*(SOCf-SOCi)\n",
    "    else:\n",
    "        if t1>=T/2:\n",
    "            return c2*Qmax*(SOCf-SOCi)\n",
    "        else:\n",
    "            return pmax(c1(T/2-t1)+c2(t2-T/2))\n",
    "    \n",
    "        "
   ]
  },
  {
   "cell_type": "raw",
   "metadata": {},
   "source": [
    "Ordres de grandeurs:\n",
    "c1=0,1580€\n",
    "c2=0,1230€\n",
    "selon EDF\n",
    "pmax=6000W (puissance maximale que peut recevoir une maison modeste selon ENGIE)\n",
    "T=1 jour=86400 secondes\n",
    "Qmax=510\n"
   ]
  },
  {
   "cell_type": "code",
   "execution_count": 6,
   "metadata": {},
   "outputs": [
    {
     "data": {
      "text/plain": [
       "(43200.0, 70000)"
      ]
     },
     "execution_count": 6,
     "metadata": {},
     "output_type": "execute_result"
    }
   ],
   "source": [
    "\n",
    "choixtemps(40000,70000,6000,0.2,0.8,86400,510)\n"
   ]
  },
  {
   "cell_type": "code",
   "execution_count": 7,
   "metadata": {},
   "outputs": [
    {
     "data": {
      "text/plain": [
       "37.638000000000005"
      ]
     },
     "execution_count": 7,
     "metadata": {},
     "output_type": "execute_result"
    }
   ],
   "source": [
    "cout(40000,70000,0.2,0.8,510,0.1580,0.1230,86400,6000)"
   ]
  },
  {
   "cell_type": "code",
   "execution_count": 8,
   "metadata": {},
   "outputs": [],
   "source": [
    "def coutnonopti(t0,tf,c1,c2,T,Qmax,SOCi,SOCf):\n",
    "    p=(SOCf-SOCi)*Qmax/(tf-t0)\n",
    "    return (T/2-t0)*c1*p+(tf-T/2)*c2*p"
   ]
  },
  {
   "cell_type": "code",
   "execution_count": 9,
   "metadata": {},
   "outputs": [
    {
     "data": {
      "text/plain": [
       "38.78040000000001"
      ]
     },
     "execution_count": 9,
     "metadata": {},
     "output_type": "execute_result"
    }
   ],
   "source": [
    "coutnonopti(40000,70000,0.1580,0.1230,86400,510,0.2,0.8)"
   ]
  },
  {
   "cell_type": "raw",
   "metadata": {},
   "source": [
    "On voit bien une baisse du coût lorsqu'il est optimisé."
   ]
  },
  {
   "cell_type": "markdown",
   "metadata": {},
   "source": [
    "Partie 3 : Etude avancée\n",
    "\n",
    "N'ayant pas du tout compris l'alogorithme d'Uzawa et comment le mettre en place. J'ai décidé de faire mon propre algorithme pour le cas de deux voitures."
   ]
  },
  {
   "cell_type": "code",
   "execution_count": 32,
   "metadata": {},
   "outputs": [],
   "source": [
    "def newchoixtemps(t01,tf1,t02,tf2,pmax,SOCi1,SOCf1,SOCi2,SOCf2,T,Qmax):\n",
    "    t11,t12=choixtemps(t01,tf1,pmax,SOCi1,SOCf1,T,Qmax)\n",
    "    t21,t22=choixtemps(t02,tf2,pmax,SOCi2,SOCf2,T,Qmax)\n",
    "    if t21>t12 or t11>t22 :\n",
    "        return t11,t12,t21,t22\n",
    "    else:\n",
    "        if t11<t21:\n",
    "            t21=(2/pmax)*(pmax*t12/2+pmax(t22-t12)-(SOCf2-SOCi2)*Qmax)\n",
    "            t11=(1/pmax)*(pmax*t21+(pmax/2)(t12-t21)-(SOCf1-SOCi1)*Qmax)\n",
    "            return t11,t12,t21,t22\n",
    "        else:\n",
    "            t11=(2/pmax)*(pmax*t22/2+pmax(t12-t22)-(SOCf1-SOCi1)*Qmax)\n",
    "            t21=(1/pmax)*(pmax*t11+(pmax/2)(t22-t11)-(SOCf2-SOCi2)*Qmax)\n",
    "            return t11,t12,t21,t22\n",
    "        "
   ]
  },
  {
   "cell_type": "code",
   "execution_count": 33,
   "metadata": {},
   "outputs": [],
   "source": [
    "def p(t):\n",
    "    if t<86400/2:\n",
    "        return 0.1580\n",
    "    else : \n",
    "        return 0.1230\n",
    "\n",
    "def newcout(t01,tf1,t02,tf2,pmax,SOCi1,SOCf1,SOCi2,SOCf2,T,Qmax,c1,c2):\n",
    "    c=0\n",
    "    t11,t12,t21,t22=newchoixtemps(t01,tf1,t02,tf2,pmax,SOCi1,SOCf1,SOCi2,SOCf2,T,Qmax)\n",
    "    if t21>t12 or t11>t22 :\n",
    "       return c+cout(t11,t12,SOCi1,SOCf1,Qmax,c1,c2,T,pmax) +cout(t21,t22,SOCi2,SOCf2,Qmax,c1,c2,T,pmax)\n",
    "    else:\n",
    "        if t11<t21:\n",
    "            if p(t11)!=p(t21):\n",
    "                c=c+pmax*p(t11)*(T/2-t11)+pmax*p(t21)*(t21-T/2)+pmax*p(t22)*(t22-t21)\n",
    "                return c\n",
    "            else :\n",
    "                if p(t12)!=p(t21):\n",
    "                    return c + pmax*p(t11)*(t21-t11)+(pmax/2)*p(t21)*(T/2-t21)+(pmax/2)*p(t12)(t12-T/2)+pmax*p(t22)*(t22-t12)\n",
    "                else:\n",
    "                    if p(t12)!=p(t22):\n",
    "                        return c+pmax*p(t11)*(t21-t11)+(pmax/2)*p(t21)*(t12-t21)+pmax*p(t12)*(T/2-t12)+pmax*p(t22)*(t22-T/2)\n",
    "                    else :\n",
    "                        return p(t11)(pmax(t21-t11)+(pmax/2)(t12-t21)+pmax(t22-t12))\n",
    "        else:\n",
    "            if p(t11)!=p(t21):\n",
    "                c=c+pmax*p(t21)*(T/2-t21)+pmax*p(t11)*(t11-T/2)+pmax*p(t12)*(t12-t11)\n",
    "                return c\n",
    "            else :\n",
    "                if p(t22)!=p(t21):\n",
    "                    return c + pmax*p(t21)*(t11-t21)+(pmax/2)*p(t11)*(T/2-t11)+(pmax/2)*p(t22)(t22-T/2)+pmax*p(t12)*(t12-t22)\n",
    "                else:\n",
    "                    if p(t22)!=p(t12):\n",
    "                        return c+pmax*p(t21)*(t11-t21)+(pmax/2)*p(t11)*(t22-t11)+pmax*p(t22)*(T/2-t22)+pmax*p(t12)*(t12-T/2)\n",
    "                    else :\n",
    "                        return p(t21)(pmax(t11-t21)+(pmax/2)(t22-t11)+pmax(t12-t22))\n",
    "\n",
    "                    \n",
    "def imagecharge(t01,tf1,t02,tf2,pmax,SOCi1,SOCf1,SOCi2,SOCf2,T,Qmax):\n",
    "    t11,t12,t21,t22=newchoixtemps(t01,tf1,t02,tf2,pmax,SOCi1,SOCf1,SOCi2,SOCf2,T,Qmax)\n",
    "    Q1=[SOCi1*Qmax]\n",
    "    Q2=[SOCi2*Qmax]\n",
    "    if t21>t12 or t11>t22 :\n",
    "        p1=(Qmax(SOCf1-SOCi1))/(t12-t11)\n",
    "        for i in range (0,t12-t11+1):\n",
    "            Q1.append(Q1[len(Q1)-1]+p1)\n",
    "       \n",
    "        p2=(Qmax(SOCf2-SOCi2))/(t22-t21)\n",
    "        for i in range (0,t22-t21+1):\n",
    "            Q2.append(Q2[len(Q2)-1]+p2)\n",
    "        \n",
    "    else: \n",
    "        if t11<t21:\n",
    "            for i in range (0,t21-t11+1):\n",
    "                Q1.append(Q1[len(Q1)-1]+pmax)\n",
    "            for i in range (0,t12-t21+1):\n",
    "                Q1.append(Q1[len(Q1)-1]+pmax/2)\n",
    "            for i in range (0,t12-t21+1):\n",
    "                Q2.append(Q2[len(Q2)-1]+pmax/2)\n",
    "            for i in range (0,t22-t12+1):\n",
    "                Q2.append(Q2[len(Q2)-1]+pmax)\n",
    "    T1=[t11]\n",
    "    for i in range (0,t12-t11+1):\n",
    "        T1.append(T1[len(T1)-1]+1)\n",
    "    T2=[t21]\n",
    "    for i in range (0,t22-t21+1):\n",
    "        T2.append(T2[len(T2)-1]+1)\n",
    "    return Q1,T1,Q2,T2\n",
    "    "
   ]
  },
  {
   "cell_type": "code",
   "execution_count": 34,
   "metadata": {},
   "outputs": [
    {
     "ename": "TypeError",
     "evalue": "'int' object is not callable",
     "output_type": "error",
     "traceback": [
      "\u001b[0;31m---------------------------------------------------------------------------\u001b[0m",
      "\u001b[0;31mTypeError\u001b[0m                                 Traceback (most recent call last)",
      "\u001b[0;32m<ipython-input-34-6b1d14122824>\u001b[0m in \u001b[0;36m<module>\u001b[0;34m\u001b[0m\n\u001b[0;32m----> 1\u001b[0;31m \u001b[0mnewchoixtemps\u001b[0m\u001b[0;34m(\u001b[0m\u001b[0;36m20000\u001b[0m\u001b[0;34m,\u001b[0m\u001b[0;36m70000\u001b[0m\u001b[0;34m,\u001b[0m\u001b[0;36m30000\u001b[0m\u001b[0;34m,\u001b[0m\u001b[0;36m65000\u001b[0m\u001b[0;34m,\u001b[0m\u001b[0;36m6000\u001b[0m\u001b[0;34m,\u001b[0m\u001b[0;36m0.2\u001b[0m\u001b[0;34m,\u001b[0m\u001b[0;36m0.8\u001b[0m\u001b[0;34m,\u001b[0m\u001b[0;36m0.4\u001b[0m\u001b[0;34m,\u001b[0m\u001b[0;36m0.6\u001b[0m\u001b[0;34m,\u001b[0m\u001b[0;36m86400\u001b[0m\u001b[0;34m,\u001b[0m\u001b[0;36m510\u001b[0m\u001b[0;34m)\u001b[0m\u001b[0;34m\u001b[0m\u001b[0;34m\u001b[0m\u001b[0m\n\u001b[0m",
      "\u001b[0;32m<ipython-input-32-acee7a4661d8>\u001b[0m in \u001b[0;36mnewchoixtemps\u001b[0;34m(t01, tf1, t02, tf2, pmax, SOCi1, SOCf1, SOCi2, SOCf2, T, Qmax)\u001b[0m\n\u001b[1;32m     10\u001b[0m             \u001b[0;32mreturn\u001b[0m \u001b[0mt11\u001b[0m\u001b[0;34m,\u001b[0m\u001b[0mt12\u001b[0m\u001b[0;34m,\u001b[0m\u001b[0mt21\u001b[0m\u001b[0;34m,\u001b[0m\u001b[0mt22\u001b[0m\u001b[0;34m\u001b[0m\u001b[0;34m\u001b[0m\u001b[0m\n\u001b[1;32m     11\u001b[0m         \u001b[0;32melse\u001b[0m\u001b[0;34m:\u001b[0m\u001b[0;34m\u001b[0m\u001b[0;34m\u001b[0m\u001b[0m\n\u001b[0;32m---> 12\u001b[0;31m             \u001b[0mt11\u001b[0m\u001b[0;34m=\u001b[0m\u001b[0;34m(\u001b[0m\u001b[0;36m2\u001b[0m\u001b[0;34m/\u001b[0m\u001b[0mpmax\u001b[0m\u001b[0;34m)\u001b[0m\u001b[0;34m*\u001b[0m\u001b[0;34m(\u001b[0m\u001b[0mpmax\u001b[0m\u001b[0;34m*\u001b[0m\u001b[0mt22\u001b[0m\u001b[0;34m/\u001b[0m\u001b[0;36m2\u001b[0m\u001b[0;34m+\u001b[0m\u001b[0mpmax\u001b[0m\u001b[0;34m(\u001b[0m\u001b[0mt12\u001b[0m\u001b[0;34m-\u001b[0m\u001b[0mt22\u001b[0m\u001b[0;34m)\u001b[0m\u001b[0;34m-\u001b[0m\u001b[0;34m(\u001b[0m\u001b[0mSOCf1\u001b[0m\u001b[0;34m-\u001b[0m\u001b[0mSOCi1\u001b[0m\u001b[0;34m)\u001b[0m\u001b[0;34m*\u001b[0m\u001b[0mQmax\u001b[0m\u001b[0;34m)\u001b[0m\u001b[0;34m\u001b[0m\u001b[0;34m\u001b[0m\u001b[0m\n\u001b[0m\u001b[1;32m     13\u001b[0m             \u001b[0mt21\u001b[0m\u001b[0;34m=\u001b[0m\u001b[0;34m(\u001b[0m\u001b[0;36m1\u001b[0m\u001b[0;34m/\u001b[0m\u001b[0mpmax\u001b[0m\u001b[0;34m)\u001b[0m\u001b[0;34m*\u001b[0m\u001b[0;34m(\u001b[0m\u001b[0mpmax\u001b[0m\u001b[0;34m*\u001b[0m\u001b[0mt11\u001b[0m\u001b[0;34m+\u001b[0m\u001b[0;34m(\u001b[0m\u001b[0mpmax\u001b[0m\u001b[0;34m/\u001b[0m\u001b[0;36m2\u001b[0m\u001b[0;34m)\u001b[0m\u001b[0;34m(\u001b[0m\u001b[0mt22\u001b[0m\u001b[0;34m-\u001b[0m\u001b[0mt11\u001b[0m\u001b[0;34m)\u001b[0m\u001b[0;34m-\u001b[0m\u001b[0;34m(\u001b[0m\u001b[0mSOCf2\u001b[0m\u001b[0;34m-\u001b[0m\u001b[0mSOCi2\u001b[0m\u001b[0;34m)\u001b[0m\u001b[0;34m*\u001b[0m\u001b[0mQmax\u001b[0m\u001b[0;34m)\u001b[0m\u001b[0;34m\u001b[0m\u001b[0;34m\u001b[0m\u001b[0m\n\u001b[1;32m     14\u001b[0m             \u001b[0;32mreturn\u001b[0m \u001b[0mt11\u001b[0m\u001b[0;34m,\u001b[0m\u001b[0mt12\u001b[0m\u001b[0;34m,\u001b[0m\u001b[0mt21\u001b[0m\u001b[0;34m,\u001b[0m\u001b[0mt22\u001b[0m\u001b[0;34m\u001b[0m\u001b[0;34m\u001b[0m\u001b[0m\n",
      "\u001b[0;31mTypeError\u001b[0m: 'int' object is not callable"
     ]
    }
   ],
   "source": [
    "newchoixtemps(20000,70000,30000,65000,6000,0.2,0.8,0.4,0.6,86400,510)"
   ]
  },
  {
   "cell_type": "code",
   "execution_count": 20,
   "metadata": {},
   "outputs": [
    {
     "data": {
      "text/plain": [
       "-2"
      ]
     },
     "execution_count": 20,
     "metadata": {},
     "output_type": "execute_result"
    }
   ],
   "source": [
    "\n"
   ]
  },
  {
   "cell_type": "code",
   "execution_count": null,
   "metadata": {},
   "outputs": [],
   "source": []
  }
 ],
 "metadata": {
  "kernelspec": {
   "display_name": "Python 3",
   "language": "python",
   "name": "python3"
  },
  "language_info": {
   "codemirror_mode": {
    "name": "ipython",
    "version": 3
   },
   "file_extension": ".py",
   "mimetype": "text/x-python",
   "name": "python",
   "nbconvert_exporter": "python",
   "pygments_lexer": "ipython3",
   "version": "3.7.1"
  }
 },
 "nbformat": 4,
 "nbformat_minor": 2
}
